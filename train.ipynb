{
 "cells": [
  {
   "cell_type": "code",
   "execution_count": 1,
   "metadata": {},
   "outputs": [],
   "source": [
    "from sklearn.model_selection import train_test_split\n",
    "from pipeline import Pipeline\n",
    "import torch\n",
    "import torch.nn as nn\n",
    "import torch.nn.functional as F\n",
    "from torch.utils.data import Dataset, DataLoader\n",
    "from torch.nn.utils.rnn import pad_sequence\n",
    "from transforms import pad_token\n",
    "import numpy as np\n",
    "from tqdm import tqdm_notebook, tqdm\n",
    "import pickle\n",
    "import random\n",
    "from dataset import TBTTScriptsDataset\n",
    "from model import GRU"
   ]
  },
  {
   "cell_type": "code",
   "execution_count": 2,
   "metadata": {},
   "outputs": [],
   "source": [
    "data, token_idx, idx_token = Pipeline.load(\"10k_common\").data\n",
    "ratings = Pipeline.load(\"ratings\").data"
   ]
  },
  {
   "cell_type": "code",
   "execution_count": 3,
   "metadata": {},
   "outputs": [],
   "source": [
    "def test_model(loader, model):\n",
    "    \"\"\"\n",
    "    Help function that tests the model's performance on a dataset\n",
    "    @param: loader - data loader for the dataset to test against\n",
    "    \"\"\"\n",
    "    correct = 0\n",
    "    total = 0\n",
    "    model.eval()\n",
    "    for data, labels in tqdm_notebook(loader, desc = \"Validation Batches\", unit = \"batch\", leave = False):\n",
    "        batch_size, seq_len = data.shape\n",
    "        hidden = model.init_hidden(batch_size)\n",
    "        \n",
    "        data_truncated = torch.chunk(data, int(seq_len / T), dim = 1)\n",
    "        for truncated_slice in data_truncated:\n",
    "            predicted, hidden = model(truncated_slice, hidden)\n",
    "            \n",
    "        total += labels.size(0)\n",
    "        correct += torch.mean((predicted - labels) ** 2)\n",
    "    return (correct / total)"
   ]
  },
  {
   "cell_type": "code",
   "execution_count": null,
   "metadata": {},
   "outputs": [],
   "source": [
    "# with open(\"10k_common.pkl\", \"rb\") as f:\n",
    "#   data, token_idx, idx_token = pickle.load(f).data\n",
    "#   data = data.apply(lambda x: x[:500])\n",
    "  \n",
    "# with open(\"rating.pkl\", \"rb\") as f:\n",
    "#   ratings = pickle.load(f)\n",
    "\n",
    "data, token_idx, idx_token = Pipeline.load(\"10k_common\").data\n",
    "ratings = Pipeline.load(\"ratings\").data\n",
    "\n",
    "X_train, X_test, y_train, y_test = train_test_split(data, ratings, test_size=0.15, random_state=42)\n",
    "X_train, X_test = X_train.reset_index(drop=True), X_test.reset_index(drop=True)\n",
    "\n",
    "# train_loader = ScriptsDataset(X_train, y_train).get_loader(batch_size = 5)\n",
    "# val_loader = ScriptsDataset(X_test, y_test).get_loader(batch_size = 10)\n",
    "train_loader = TBTTScriptsDataset(X_train, y_train).get_loader()\n",
    "val_loader = TBTTScriptsDataset(X_test, y_test).get_loader()"
   ]
  },
  {
   "cell_type": "code",
   "execution_count": null,
   "metadata": {},
   "outputs": [],
   "source": [
    "# model = RNN(emb_size = 128, hidden_size = 256, num_layers = 1, vocab_size = len(idx_token), pad_idx = token_idx[pad_token])\n",
    "model = GRU(emb_size = 100, hidden_size = 128, num_layers = 1, vocab_size = len(idx_token), pad_idx = token_idx[pad_token])\n",
    "\n",
    "learning_rate = .001\n",
    "num_epochs = 2\n",
    "\n",
    "criterion = torch.nn.MSELoss()\n",
    "optimizer = torch.optim.Adam(model.parameters(), lr=learning_rate)\n",
    "\n",
    "total_step = len(train_loader)\n",
    "T = 50"
   ]
  },
  {
   "cell_type": "code",
   "execution_count": null,
   "metadata": {},
   "outputs": [
    {
     "data": {
      "application/vnd.jupyter.widget-view+json": {
       "model_id": "d9bbc77234ae4a4d846005cfddb8dec8",
       "version_major": 2,
       "version_minor": 0
      },
      "text/plain": [
       "HBox(children=(IntProgress(value=0, description='Training Epochs', max=2), HTML(value='')))"
      ]
     },
     "metadata": {},
     "output_type": "display_data"
    },
    {
     "data": {
      "application/vnd.jupyter.widget-view+json": {
       "model_id": "0aad2b7c48c44e3e80698c84381ee50d",
       "version_major": 2,
       "version_minor": 0
      },
      "text/plain": [
       "HBox(children=(IntProgress(value=0, description='Batches', max=3519), HTML(value='')))"
      ]
     },
     "metadata": {},
     "output_type": "display_data"
    }
   ],
   "source": [
    "losses = []\n",
    "interval_loss = []\n",
    "for epoch in tqdm_notebook(range(num_epochs), desc = \"Training Epochs\", unit = \"epoch\"):\n",
    "    for i, (data, labels) in enumerate(tqdm_notebook(train_loader, desc = \"Batches\", unit = \"batch\")):\n",
    "        model.train()\n",
    "        optimizer.zero_grad()\n",
    "        \n",
    "        batch_size, seq_len = data.shape\n",
    "        hidden = model.init_hidden(batch_size)\n",
    "        \n",
    "        data_truncated = torch.chunk(data, int(seq_len / T), dim = 1)\n",
    "        for truncated_slice in data_truncated:\n",
    "            outputs, hidden = model(truncated_slice, hidden)\n",
    "\n",
    "        loss = criterion(outputs, labels)\n",
    "\n",
    "        # Backward and optimize\n",
    "        loss.backward()\n",
    "        \n",
    "        enc_grads = torch.nn.utils.clip_grad_norm_(model.parameters(), 40)\n",
    "        \n",
    "        optimizer.step()\n",
    "                \n",
    "        losses.append(loss.item())\n",
    "        interval_loss.append(loss.item())\n",
    "        if i > 0 and i % 10 == 0:\n",
    "            # validate\n",
    "            val_acc = test_model(val_loader, model)\n",
    "            avg_intval_loss = sum(interval_loss) / len(interval_loss)\n",
    "            tqdm.write('Epoch: [{}/{}], Step: [{}/{}], Average MSE: {:.4f}, Avg Loss: {:.4f}'.format(\n",
    "                       epoch+1, num_epochs, i+1, total_step, val_acc, avg_intval_loss))\n",
    "            interval_loss = []"
   ]
  }
 ],
 "metadata": {
  "kernelspec": {
   "display_name": "Python 3",
   "language": "python",
   "name": "python3"
  },
  "language_info": {
   "codemirror_mode": {
    "name": "ipython",
    "version": 3
   },
   "file_extension": ".py",
   "mimetype": "text/x-python",
   "name": "python",
   "nbconvert_exporter": "python",
   "pygments_lexer": "ipython3",
   "version": "3.7.1"
  }
 },
 "nbformat": 4,
 "nbformat_minor": 2
}
